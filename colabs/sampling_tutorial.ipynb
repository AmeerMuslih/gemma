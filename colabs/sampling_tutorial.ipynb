{
  "cells": [
    {
      "cell_type": "markdown",
      "metadata": {
        "id": "SC77q_zBESaM"
      },
      "source": [
        "Copyright 2024 DeepMind Technologies Limited.\n",
        "\n",
        "Licensed under the Apache License, Version 2.0 (the \"License\"); you may not use this file except in compliance with the License. You may obtain a copy of the License at\n",
        "\n",
        "http://www.apache.org/licenses/LICENSE-2.0\n",
        "\n",
        "Unless required by applicable law or agreed to in writing, software distributed under the License is distributed on an \"AS IS\" BASIS, WITHOUT WARRANTIES OR CONDITIONS OF ANY KIND, either express or implied. See the License for the specific language governing permissions and limitations under the License.\n",
        "\n",
        "---"
      ]
    },
    {
      "cell_type": "markdown",
      "metadata": {
        "id": "TpESp4p5ESaM"
      },
      "source": [
        "# Getting Started with Gemma Sampling: A Step-by-Step Guide\n",
        "\n",
        "You will find in this colab a detailed tutorial explaining how to load a Gemma checkpoint and sample from it.\n",
        "\n"
      ]
    },
    {
      "cell_type": "markdown",
      "metadata": {
        "id": "LtzOe_3XY9R5"
      },
      "source": [
        "## Installation"
      ]
    },
    {
      "cell_type": "code",
      "execution_count": 1,
      "metadata": {
        "id": "iq2ebV_6YNiU"
      },
      "outputs": [
        {
          "name": "stdout",
          "output_type": "stream",
          "text": [
            "Collecting git+https://github.com/google-deepmind/gemma.git\n",
            "  Cloning https://github.com/google-deepmind/gemma.git to c:\\users\\t-amuslih\\appdata\\local\\temp\\pip-req-build-geya55vv\n",
            "  Resolved https://github.com/google-deepmind/gemma.git to commit a0504162f99a1c238efb37b8197e711c0f3808fd\n",
            "  Installing build dependencies: started\n",
            "  Installing build dependencies: finished with status 'done'\n",
            "  Getting requirements to build wheel: started\n",
            "  Getting requirements to build wheel: finished with status 'done'\n",
            "  Preparing metadata (pyproject.toml): started\n",
            "  Preparing metadata (pyproject.toml): finished with status 'done'\n",
            "Requirement already satisfied: absl-py<3.0.0,>=2.1.0 in c:\\users\\t-amuslih\\source\\repos\\uni\\gemma\\.conda\\lib\\site-packages (from gemma==1.0.0) (2.1.0)\n",
            "Requirement already satisfied: flax>=0.8 in c:\\users\\t-amuslih\\source\\repos\\uni\\gemma\\.conda\\lib\\site-packages (from gemma==1.0.0) (0.9.0)\n",
            "Collecting sentencepiece<0.2.0,>=0.1.99 (from gemma==1.0.0)\n",
            "  Using cached sentencepiece-0.1.99.tar.gz (2.6 MB)\n",
            "  Preparing metadata (setup.py): started\n",
            "  Preparing metadata (setup.py): finished with status 'error'\n"
          ]
        },
        {
          "name": "stderr",
          "output_type": "stream",
          "text": [
            "  Running command git clone --filter=blob:none --quiet https://github.com/google-deepmind/gemma.git 'C:\\Users\\t-amuslih\\AppData\\Local\\Temp\\pip-req-build-geya55vv'\n",
            "  error: subprocess-exited-with-error\n",
            "  \n",
            "  × python setup.py egg_info did not run successfully.\n",
            "  │ exit code: 1\n",
            "  ╰─> [17 lines of output]\n",
            "      Traceback (most recent call last):\n",
            "        File \"<string>\", line 2, in <module>\n",
            "        File \"<pip-setuptools-caller>\", line 34, in <module>\n",
            "        File \"C:\\Users\\t-amuslih\\AppData\\Local\\Temp\\pip-install-zz8i9y6a\\sentencepiece_d5ea635da9c945288d6b8fb70f78c851\\setup.py\", line 126, in <module>\n",
            "          subprocess.check_call([\n",
            "        File \"c:\\Users\\t-amuslih\\source\\repos\\uni\\gemma\\.conda\\Lib\\subprocess.py\", line 408, in check_call\n",
            "          retcode = call(*popenargs, **kwargs)\n",
            "                    ^^^^^^^^^^^^^^^^^^^^^^^^^^\n",
            "        File \"c:\\Users\\t-amuslih\\source\\repos\\uni\\gemma\\.conda\\Lib\\subprocess.py\", line 389, in call\n",
            "          with Popen(*popenargs, **kwargs) as p:\n",
            "               ^^^^^^^^^^^^^^^^^^^^^^^^^^^\n",
            "        File \"c:\\Users\\t-amuslih\\source\\repos\\uni\\gemma\\.conda\\Lib\\subprocess.py\", line 1026, in __init__\n",
            "          self._execute_child(args, executable, preexec_fn, close_fds,\n",
            "        File \"c:\\Users\\t-amuslih\\source\\repos\\uni\\gemma\\.conda\\Lib\\subprocess.py\", line 1538, in _execute_child\n",
            "          hp, ht, pid, tid = _winapi.CreateProcess(executable, args,\n",
            "                             ^^^^^^^^^^^^^^^^^^^^^^^^^^^^^^^^^^^^^^^\n",
            "      FileNotFoundError: [WinError 2] The system cannot find the file specified\n",
            "      [end of output]\n",
            "  \n",
            "  note: This error originates from a subprocess, and is likely not a problem with pip.\n",
            "error: metadata-generation-failed\n",
            "\n",
            "× Encountered error while generating package metadata.\n",
            "╰─> See above for output.\n",
            "\n",
            "note: This is an issue with the package mentioned above, not pip.\n",
            "hint: See above for details.\n"
          ]
        },
        {
          "name": "stdout",
          "output_type": "stream",
          "text": [
            "Requirement already satisfied: kaggle in c:\\users\\t-amuslih\\appdata\\roaming\\python\\python312\\site-packages (1.6.17)\n",
            "Requirement already satisfied: six>=1.10 in c:\\users\\t-amuslih\\appdata\\roaming\\python\\python312\\site-packages (from kaggle) (1.16.0)\n",
            "Requirement already satisfied: certifi>=2023.7.22 in c:\\users\\t-amuslih\\appdata\\roaming\\python\\python312\\site-packages (from kaggle) (2024.8.30)\n",
            "Requirement already satisfied: python-dateutil in c:\\users\\t-amuslih\\appdata\\roaming\\python\\python312\\site-packages (from kaggle) (2.9.0.post0)\n",
            "Requirement already satisfied: requests in c:\\users\\t-amuslih\\appdata\\roaming\\python\\python312\\site-packages (from kaggle) (2.32.3)\n",
            "Requirement already satisfied: tqdm in c:\\users\\t-amuslih\\appdata\\roaming\\python\\python312\\site-packages (from kaggle) (4.66.5)\n",
            "Requirement already satisfied: python-slugify in c:\\users\\t-amuslih\\appdata\\roaming\\python\\python312\\site-packages (from kaggle) (8.0.4)\n",
            "Requirement already satisfied: urllib3 in c:\\users\\t-amuslih\\appdata\\roaming\\python\\python312\\site-packages (from kaggle) (2.2.3)\n",
            "Requirement already satisfied: bleach in c:\\users\\t-amuslih\\appdata\\roaming\\python\\python312\\site-packages (from kaggle) (6.1.0)\n",
            "Requirement already satisfied: webencodings in c:\\users\\t-amuslih\\appdata\\roaming\\python\\python312\\site-packages (from bleach->kaggle) (0.5.1)\n",
            "Requirement already satisfied: text-unidecode>=1.3 in c:\\users\\t-amuslih\\appdata\\roaming\\python\\python312\\site-packages (from python-slugify->kaggle) (1.3)\n",
            "Requirement already satisfied: charset-normalizer<4,>=2 in c:\\users\\t-amuslih\\appdata\\roaming\\python\\python312\\site-packages (from requests->kaggle) (3.3.2)\n",
            "Requirement already satisfied: idna<4,>=2.5 in c:\\users\\t-amuslih\\appdata\\roaming\\python\\python312\\site-packages (from requests->kaggle) (3.8)\n",
            "Requirement already satisfied: colorama in c:\\users\\t-amuslih\\appdata\\roaming\\python\\python312\\site-packages (from tqdm->kaggle) (0.4.6)\n",
            "Requirement already satisfied: jax in c:\\users\\t-amuslih\\source\\repos\\uni\\gemma\\.conda\\lib\\site-packages (0.4.31)\n",
            "Requirement already satisfied: jaxlib<=0.4.31,>=0.4.30 in c:\\users\\t-amuslih\\source\\repos\\uni\\gemma\\.conda\\lib\\site-packages (from jax) (0.4.31)\n",
            "Requirement already satisfied: ml-dtypes>=0.2.0 in c:\\users\\t-amuslih\\source\\repos\\uni\\gemma\\.conda\\lib\\site-packages (from jax) (0.5.0)\n",
            "Requirement already satisfied: numpy>=1.24 in c:\\users\\t-amuslih\\appdata\\roaming\\python\\python312\\site-packages (from jax) (2.1.1)\n",
            "Requirement already satisfied: opt-einsum in c:\\users\\t-amuslih\\source\\repos\\uni\\gemma\\.conda\\lib\\site-packages (from jax) (3.3.0)\n",
            "Requirement already satisfied: scipy>=1.10 in c:\\users\\t-amuslih\\source\\repos\\uni\\gemma\\.conda\\lib\\site-packages (from jax) (1.14.1)\n",
            "Requirement already satisfied: orbax in c:\\users\\t-amuslih\\source\\repos\\uni\\gemma\\.conda\\lib\\site-packages (0.1.9)\n",
            "Requirement already satisfied: orbax-checkpoint>=0.1.8 in c:\\users\\t-amuslih\\source\\repos\\uni\\gemma\\.conda\\lib\\site-packages (from orbax) (0.6.3)\n",
            "Requirement already satisfied: absl-py in c:\\users\\t-amuslih\\source\\repos\\uni\\gemma\\.conda\\lib\\site-packages (from orbax-checkpoint>=0.1.8->orbax) (2.1.0)\n",
            "Requirement already satisfied: etils[epath,epy] in c:\\users\\t-amuslih\\source\\repos\\uni\\gemma\\.conda\\lib\\site-packages (from orbax-checkpoint>=0.1.8->orbax) (1.9.4)\n",
            "Requirement already satisfied: typing_extensions in c:\\users\\t-amuslih\\appdata\\roaming\\python\\python312\\site-packages (from orbax-checkpoint>=0.1.8->orbax) (4.12.2)\n",
            "Requirement already satisfied: msgpack in c:\\users\\t-amuslih\\source\\repos\\uni\\gemma\\.conda\\lib\\site-packages (from orbax-checkpoint>=0.1.8->orbax) (1.1.0)\n",
            "Requirement already satisfied: jax>=0.4.26 in c:\\users\\t-amuslih\\source\\repos\\uni\\gemma\\.conda\\lib\\site-packages (from orbax-checkpoint>=0.1.8->orbax) (0.4.31)\n",
            "Requirement already satisfied: jaxlib in c:\\users\\t-amuslih\\source\\repos\\uni\\gemma\\.conda\\lib\\site-packages (from orbax-checkpoint>=0.1.8->orbax) (0.4.31)\n",
            "Requirement already satisfied: numpy in c:\\users\\t-amuslih\\appdata\\roaming\\python\\python312\\site-packages (from orbax-checkpoint>=0.1.8->orbax) (2.1.1)\n",
            "Requirement already satisfied: pyyaml in c:\\users\\t-amuslih\\appdata\\roaming\\python\\python312\\site-packages (from orbax-checkpoint>=0.1.8->orbax) (6.0.2)\n",
            "Requirement already satisfied: tensorstore>=0.1.60 in c:\\users\\t-amuslih\\source\\repos\\uni\\gemma\\.conda\\lib\\site-packages (from orbax-checkpoint>=0.1.8->orbax) (0.1.65)\n",
            "Requirement already satisfied: nest_asyncio in c:\\users\\t-amuslih\\appdata\\roaming\\python\\python312\\site-packages (from orbax-checkpoint>=0.1.8->orbax) (1.6.0)\n",
            "Requirement already satisfied: protobuf in c:\\users\\t-amuslih\\source\\repos\\uni\\gemma\\.conda\\lib\\site-packages (from orbax-checkpoint>=0.1.8->orbax) (5.28.1)\n",
            "Requirement already satisfied: humanize in c:\\users\\t-amuslih\\source\\repos\\uni\\gemma\\.conda\\lib\\site-packages (from orbax-checkpoint>=0.1.8->orbax) (4.10.0)\n",
            "Requirement already satisfied: ml-dtypes>=0.2.0 in c:\\users\\t-amuslih\\source\\repos\\uni\\gemma\\.conda\\lib\\site-packages (from jax>=0.4.26->orbax-checkpoint>=0.1.8->orbax) (0.5.0)\n",
            "Requirement already satisfied: opt-einsum in c:\\users\\t-amuslih\\source\\repos\\uni\\gemma\\.conda\\lib\\site-packages (from jax>=0.4.26->orbax-checkpoint>=0.1.8->orbax) (3.3.0)\n",
            "Requirement already satisfied: scipy>=1.10 in c:\\users\\t-amuslih\\source\\repos\\uni\\gemma\\.conda\\lib\\site-packages (from jax>=0.4.26->orbax-checkpoint>=0.1.8->orbax) (1.14.1)\n",
            "Requirement already satisfied: fsspec in c:\\users\\t-amuslih\\appdata\\roaming\\python\\python312\\site-packages (from etils[epath,epy]->orbax-checkpoint>=0.1.8->orbax) (2024.6.1)\n",
            "Requirement already satisfied: importlib_resources in c:\\users\\t-amuslih\\source\\repos\\uni\\gemma\\.conda\\lib\\site-packages (from etils[epath,epy]->orbax-checkpoint>=0.1.8->orbax) (6.4.5)\n",
            "Requirement already satisfied: zipp in c:\\users\\t-amuslih\\source\\repos\\uni\\gemma\\.conda\\lib\\site-packages (from etils[epath,epy]->orbax-checkpoint>=0.1.8->orbax) (3.20.2)\n",
            "Requirement already satisfied: chex in c:\\users\\t-amuslih\\source\\repos\\uni\\gemma\\.conda\\lib\\site-packages (0.1.86)\n",
            "Requirement already satisfied: absl-py>=0.9.0 in c:\\users\\t-amuslih\\source\\repos\\uni\\gemma\\.conda\\lib\\site-packages (from chex) (2.1.0)\n",
            "Requirement already satisfied: typing-extensions>=4.2.0 in c:\\users\\t-amuslih\\appdata\\roaming\\python\\python312\\site-packages (from chex) (4.12.2)\n",
            "Requirement already satisfied: jax>=0.4.16 in c:\\users\\t-amuslih\\source\\repos\\uni\\gemma\\.conda\\lib\\site-packages (from chex) (0.4.31)\n",
            "Requirement already satisfied: jaxlib>=0.1.37 in c:\\users\\t-amuslih\\source\\repos\\uni\\gemma\\.conda\\lib\\site-packages (from chex) (0.4.31)\n",
            "Requirement already satisfied: numpy>=1.24.1 in c:\\users\\t-amuslih\\appdata\\roaming\\python\\python312\\site-packages (from chex) (2.1.1)\n",
            "Requirement already satisfied: toolz>=0.9.0 in c:\\users\\t-amuslih\\source\\repos\\uni\\gemma\\.conda\\lib\\site-packages (from chex) (0.12.1)\n",
            "Requirement already satisfied: setuptools in c:\\users\\t-amuslih\\appdata\\roaming\\python\\python312\\site-packages (from chex) (74.1.2)\n",
            "Requirement already satisfied: ml-dtypes>=0.2.0 in c:\\users\\t-amuslih\\source\\repos\\uni\\gemma\\.conda\\lib\\site-packages (from jax>=0.4.16->chex) (0.5.0)\n",
            "Requirement already satisfied: opt-einsum in c:\\users\\t-amuslih\\source\\repos\\uni\\gemma\\.conda\\lib\\site-packages (from jax>=0.4.16->chex) (3.3.0)\n",
            "Requirement already satisfied: scipy>=1.10 in c:\\users\\t-amuslih\\source\\repos\\uni\\gemma\\.conda\\lib\\site-packages (from jax>=0.4.16->chex) (1.14.1)\n",
            "Requirement already satisfied: flax in c:\\users\\t-amuslih\\source\\repos\\uni\\gemma\\.conda\\lib\\site-packages (0.9.0)\n",
            "Requirement already satisfied: jax>=0.4.27 in c:\\users\\t-amuslih\\source\\repos\\uni\\gemma\\.conda\\lib\\site-packages (from flax) (0.4.31)\n",
            "Requirement already satisfied: msgpack in c:\\users\\t-amuslih\\source\\repos\\uni\\gemma\\.conda\\lib\\site-packages (from flax) (1.1.0)\n",
            "Requirement already satisfied: optax in c:\\users\\t-amuslih\\source\\repos\\uni\\gemma\\.conda\\lib\\site-packages (from flax) (0.2.3)\n",
            "Requirement already satisfied: orbax-checkpoint in c:\\users\\t-amuslih\\source\\repos\\uni\\gemma\\.conda\\lib\\site-packages (from flax) (0.6.3)\n",
            "Requirement already satisfied: tensorstore in c:\\users\\t-amuslih\\source\\repos\\uni\\gemma\\.conda\\lib\\site-packages (from flax) (0.1.65)\n",
            "Requirement already satisfied: rich>=11.1 in c:\\users\\t-amuslih\\source\\repos\\uni\\gemma\\.conda\\lib\\site-packages (from flax) (13.8.1)\n",
            "Requirement already satisfied: typing-extensions>=4.2 in c:\\users\\t-amuslih\\appdata\\roaming\\python\\python312\\site-packages (from flax) (4.12.2)\n",
            "Requirement already satisfied: PyYAML>=5.4.1 in c:\\users\\t-amuslih\\appdata\\roaming\\python\\python312\\site-packages (from flax) (6.0.2)\n",
            "Requirement already satisfied: numpy>=1.23.2 in c:\\users\\t-amuslih\\appdata\\roaming\\python\\python312\\site-packages (from flax) (2.1.1)\n",
            "Requirement already satisfied: jaxlib<=0.4.31,>=0.4.30 in c:\\users\\t-amuslih\\source\\repos\\uni\\gemma\\.conda\\lib\\site-packages (from jax>=0.4.27->flax) (0.4.31)\n",
            "Requirement already satisfied: ml-dtypes>=0.2.0 in c:\\users\\t-amuslih\\source\\repos\\uni\\gemma\\.conda\\lib\\site-packages (from jax>=0.4.27->flax) (0.5.0)\n",
            "Requirement already satisfied: opt-einsum in c:\\users\\t-amuslih\\source\\repos\\uni\\gemma\\.conda\\lib\\site-packages (from jax>=0.4.27->flax) (3.3.0)\n",
            "Requirement already satisfied: scipy>=1.10 in c:\\users\\t-amuslih\\source\\repos\\uni\\gemma\\.conda\\lib\\site-packages (from jax>=0.4.27->flax) (1.14.1)\n",
            "Requirement already satisfied: markdown-it-py>=2.2.0 in c:\\users\\t-amuslih\\source\\repos\\uni\\gemma\\.conda\\lib\\site-packages (from rich>=11.1->flax) (3.0.0)\n",
            "Requirement already satisfied: pygments<3.0.0,>=2.13.0 in c:\\users\\t-amuslih\\appdata\\roaming\\python\\python312\\site-packages (from rich>=11.1->flax) (2.18.0)\n",
            "Requirement already satisfied: absl-py>=0.7.1 in c:\\users\\t-amuslih\\source\\repos\\uni\\gemma\\.conda\\lib\\site-packages (from optax->flax) (2.1.0)\n",
            "Requirement already satisfied: chex>=0.1.86 in c:\\users\\t-amuslih\\source\\repos\\uni\\gemma\\.conda\\lib\\site-packages (from optax->flax) (0.1.86)\n",
            "Requirement already satisfied: etils[epy] in c:\\users\\t-amuslih\\source\\repos\\uni\\gemma\\.conda\\lib\\site-packages (from optax->flax) (1.9.4)\n",
            "Requirement already satisfied: nest_asyncio in c:\\users\\t-amuslih\\appdata\\roaming\\python\\python312\\site-packages (from orbax-checkpoint->flax) (1.6.0)\n",
            "Requirement already satisfied: protobuf in c:\\users\\t-amuslih\\source\\repos\\uni\\gemma\\.conda\\lib\\site-packages (from orbax-checkpoint->flax) (5.28.1)\n",
            "Requirement already satisfied: humanize in c:\\users\\t-amuslih\\source\\repos\\uni\\gemma\\.conda\\lib\\site-packages (from orbax-checkpoint->flax) (4.10.0)\n",
            "Requirement already satisfied: toolz>=0.9.0 in c:\\users\\t-amuslih\\source\\repos\\uni\\gemma\\.conda\\lib\\site-packages (from chex>=0.1.86->optax->flax) (0.12.1)\n",
            "Requirement already satisfied: setuptools in c:\\users\\t-amuslih\\appdata\\roaming\\python\\python312\\site-packages (from chex>=0.1.86->optax->flax) (74.1.2)\n",
            "Requirement already satisfied: mdurl~=0.1 in c:\\users\\t-amuslih\\source\\repos\\uni\\gemma\\.conda\\lib\\site-packages (from markdown-it-py>=2.2.0->rich>=11.1->flax) (0.1.2)\n",
            "Requirement already satisfied: fsspec in c:\\users\\t-amuslih\\appdata\\roaming\\python\\python312\\site-packages (from etils[epath,epy]->orbax-checkpoint->flax) (2024.6.1)\n",
            "Requirement already satisfied: importlib_resources in c:\\users\\t-amuslih\\source\\repos\\uni\\gemma\\.conda\\lib\\site-packages (from etils[epath,epy]->orbax-checkpoint->flax) (6.4.5)\n",
            "Requirement already satisfied: zipp in c:\\users\\t-amuslih\\source\\repos\\uni\\gemma\\.conda\\lib\\site-packages (from etils[epath,epy]->orbax-checkpoint->flax) (3.20.2)\n",
            "Requirement already satisfied: sentencepiece in c:\\users\\t-amuslih\\source\\repos\\uni\\gemma\\.conda\\lib\\site-packages (0.2.0)\n"
          ]
        }
      ],
      "source": [
        "! pip install git+https://github.com/google-deepmind/gemma.git\n",
        "! pip install --user kaggle\n",
        "! pip install jax\n",
        "! pip install orbax\n",
        "! pip install chex\n",
        "! pip install flax\n",
        "! pip install sentencepiece"
      ]
    },
    {
      "cell_type": "markdown",
      "metadata": {
        "id": "QOzN-gxIYSB4"
      },
      "source": [
        "## Downloading the checkpoint\n",
        "\n",
        "\"To use Gemma's checkpoints, you'll need a Kaggle account and API key. Here's how to get them:\n",
        "\n",
        "1. Visit https://www.kaggle.com/ and create an account.\n",
        "2. Go to your account settings, then the 'API' section.\n",
        "3. Click 'Create new token' to download your key.\n",
        "\n",
        "Then run the cell below."
      ]
    },
    {
      "cell_type": "code",
      "execution_count": 2,
      "metadata": {
        "id": "likVQiEEYS5X"
      },
      "outputs": [
        {
          "data": {
            "application/vnd.jupyter.widget-view+json": {
              "model_id": "4cd5b6b8f3954ed189784204bb7ddefa",
              "version_major": 2,
              "version_minor": 0
            },
            "text/plain": [
              "VBox(children=(HTML(value='<center> <img\\nsrc=https://www.kaggle.com/static/images/site-logo.png\\nalt=\\'Kaggle…"
            ]
          },
          "metadata": {},
          "output_type": "display_data"
        }
      ],
      "source": [
        "import kagglehub\n",
        "kagglehub.login()"
      ]
    },
    {
      "cell_type": "markdown",
      "metadata": {
        "id": "QRxOFyGbYUjZ"
      },
      "source": [
        "If everything went well, you should see:\n",
        "```\n",
        "Kaggle credentials set.\n",
        "Kaggle credentials successfully validated.\n",
        "```\n",
        "\n",
        "Now select and download the checkpoint you want to try. Note that you will need an A100 runtime for the 7b models."
      ]
    },
    {
      "cell_type": "code",
      "execution_count": 3,
      "metadata": {
        "id": "O-sxcasvESaM"
      },
      "outputs": [],
      "source": [
        "import os\n",
        "\n",
        "VARIANT = '2b-it' # @param ['2b', '2b-it', '7b', '7b-it'] {type:\"string\"}\n",
        "weights_dir = kagglehub.model_download(f'google/gemma/Flax/{VARIANT}')\n",
        "ckpt_path = os.path.join(weights_dir, VARIANT)\n",
        "vocab_path = os.path.join(weights_dir, 'tokenizer.model')"
      ]
    },
    {
      "cell_type": "code",
      "execution_count": 4,
      "metadata": {},
      "outputs": [],
      "source": [
        "import sys\n",
        "sys.path.append('C:/Users/t-amuslih/source/repos/uni/gemma')"
      ]
    },
    {
      "cell_type": "code",
      "execution_count": 5,
      "metadata": {
        "cellView": "form",
        "id": "-jpTUa1YESaM"
      },
      "outputs": [],
      "source": [
        "# @title Python imports\n",
        "from gemma import params as params_lib\n",
        "from gemma import sampler as sampler_lib\n",
        "from gemma import transformer as transformer_lib\n",
        "import sentencepiece as spm"
      ]
    },
    {
      "cell_type": "markdown",
      "metadata": {
        "id": "4fDQsC87ESaN"
      },
      "source": [
        "## Start Generating with Your Model\n",
        "\n",
        "Load and prepare your LLM's checkpoint for use with Flax."
      ]
    },
    {
      "cell_type": "code",
      "execution_count": 6,
      "metadata": {
        "cellView": "form",
        "id": "57nMYQ4HESaN"
      },
      "outputs": [],
      "source": [
        "# Load parameters\n",
        "params = params_lib.load_and_format_params(ckpt_path)"
      ]
    },
    {
      "cell_type": "markdown",
      "metadata": {
        "id": "NWJ3UvHXESaN"
      },
      "source": [
        "Load your tokenizer, which we'll construct using the [SentencePiece](https://github.com/google/sentencepiece) library."
      ]
    },
    {
      "cell_type": "code",
      "execution_count": 8,
      "metadata": {
        "cellView": "form",
        "id": "khXrjEF0ESaN"
      },
      "outputs": [
        {
          "data": {
            "text/plain": [
              "True"
            ]
          },
          "execution_count": 8,
          "metadata": {},
          "output_type": "execute_result"
        }
      ],
      "source": [
        "vocab = spm.SentencePieceProcessor()\n",
        "vocab.Load(vocab_path)"
      ]
    },
    {
      "cell_type": "markdown",
      "metadata": {
        "id": "tCRtZMg0ESaN"
      },
      "source": [
        "Use the `transformer_lib.TransformerConfig.from_params` function to automatically load the correct configuration from a checkpoint. Note that the vocabulary size is smaller than the number of input embeddings due to unused tokens in this release."
      ]
    },
    {
      "cell_type": "code",
      "execution_count": 9,
      "metadata": {
        "cellView": "form",
        "id": "7InOzQtcESaN"
      },
      "outputs": [],
      "source": [
        "transformer_config=transformer_lib.TransformerConfig.from_params(\n",
        "    params,\n",
        "    cache_size=1024  # Number of time steps in the transformer's cache\n",
        ")\n",
        "transformer = transformer_lib.Transformer(transformer_config)"
      ]
    },
    {
      "cell_type": "markdown",
      "metadata": {
        "id": "KaU-X3_jESaN"
      },
      "source": [
        "Finally, build a sampler on top of your model and your tokenizer."
      ]
    },
    {
      "cell_type": "code",
      "execution_count": 10,
      "metadata": {
        "cellView": "form",
        "id": "bdstASGrESaN"
      },
      "outputs": [],
      "source": [
        "# Create a sampler with the right param shapes.\n",
        "sampler = sampler_lib.Sampler(\n",
        "    transformer=transformer,\n",
        "    vocab=vocab,\n",
        "    params=params['transformer'],\n",
        ")"
      ]
    },
    {
      "cell_type": "markdown",
      "metadata": {
        "id": "C1fLns-_ESaN"
      },
      "source": [
        "You're ready to start sampling ! This sampler uses just-in-time compilation, so changing the input shape triggers recompilation, which can slow things down. For the fastest and most efficient results, keep your batch size consistent."
      ]
    },
    {
      "cell_type": "code",
      "execution_count": 11,
      "metadata": {
        "cellView": "form",
        "id": "qA0BhNQvESaN"
      },
      "outputs": [
        {
          "name": "stdout",
          "output_type": "stream",
          "text": [
            "Prompt:\n",
            "\n",
            "# Python program for implementation of Bubble Sort\n",
            "\n",
            "def bubbleSort(arr):\n",
            "Output:\n",
            "\n",
            "    for i in range(len(arr)):\n",
            "        for j in range(len(arr)-i-1):\n",
            "            if arr[j] > arr[j+1]:\n",
            "                swap(arr, j, j+1)\n",
            "    return arr\n",
            "\n",
            "def swap(arr, i, j):\n",
            "    temp = arr[i]\n",
            "    arr[i] = arr[j]\n",
            "    arr[j] = temp\n",
            "\n",
            "# Driver code\n",
            "arr = [5, 2, 8, 3, 1, 9]\n",
            "print(bubbleSort(arr))\n",
            "\n",
            "```\n",
            "\n",
            "**Explanation:**\n",
            "\n",
            "1. **bubbleSort Function**:\n",
            "    - It takes a list `arr` as input.\n",
            "    - It uses two nested for loops to iterate through the list.\n",
            "    - The outer loop `i` iterates from the beginning of the list to the end of the list.\n",
            "    - The inner loop `j` iterates from the second element of the list to the end of the list minus `i` (excluding the element at position `j` itself).\n",
            "    - Inside the nested loops, it compares the elements at positions `j` and `j+1` in the list.\n",
            "    - If `arr[j]` is greater than `arr[j+1]`, it swaps the elements at positions `j` and `j+1` in the list.\n",
            "    -\n",
            "\n",
            "##########\n",
            "Prompt:\n",
            "What are the planets of the solar system?\n",
            "Output:\n",
            "\n",
            "\n",
            "Sure, here's a summary of the planets of the solar system:\n",
            "\n",
            "**Inner Planets:**\n",
            "\n",
            "* **Mercury:** The smallest planet, with a thin atmosphere and a surface covered by volcanic plains and mountains.\n",
            "* **Venus:** The hottest planet in the solar system, with a thick atmosphere composed mostly of carbon dioxide, and a surface covered by volcanic plains and hot springs.\n",
            "* **Earth:** Our home planet, with a thin atmosphere, liquid water, and diverse weather patterns.\n",
            "* **Mars:** The fourth planet from the Sun, with a thin atmosphere, a rusty surface, and evidence of past water activity.\n",
            "\n",
            "**Outer Planets:**\n",
            "\n",
            "* **Jupiter:** The largest planet in the solar system, with a massive atmosphere composed mostly of hydrogen and helium, and a powerful storm called the Great Red Spot.\n",
            "* **Saturn:** The second-largest planet, with a beautiful ring system composed of dust and ice particles.\n",
            "* **Uranus:** The third-largest planet, with a thin atmosphere and a unique shape that resembles a pear.\n",
            "* **Neptune:** The fourth-largest planet, with a thick atmosphere composed mostly of hydrogen and helium, and a strong wind called the Great Dark Spot.\n",
            "\n",
            "**Dwarf Planets:**\n",
            "\n",
            "* **Pluto:** A small, icy dwarf planet that was reclassified as a dwarf planet in 2006.\n",
            "* **Eris:** A dwarf planet that is larger than Pluto and has a thin atmosphere.\n",
            "* **Makemake:** A dwarf planet\n",
            "\n",
            "##########\n"
          ]
        }
      ],
      "source": [
        "input_batch = [\n",
        "    \"\\n# Python program for implementation of Bubble Sort\\n\\ndef bubbleSort(arr):\",\n",
        "    \"What are the planets of the solar system?\",\n",
        "  ]\n",
        "\n",
        "out_data = sampler(\n",
        "    input_strings=input_batch,\n",
        "    total_generation_steps=300,  # number of steps performed when generating\n",
        "  )\n",
        "\n",
        "for input_string, out_string in zip(input_batch, out_data.text):\n",
        "  print(f\"Prompt:\\n{input_string}\\nOutput:\\n{out_string}\")\n",
        "  print()\n",
        "  print(10*'#')"
      ]
    },
    {
      "cell_type": "markdown",
      "metadata": {
        "id": "tqbJ1SUcESaN"
      },
      "source": [
        "You should get an implementation of bubble sort and a description of the solar system.\n"
      ]
    }
  ],
  "metadata": {
    "colab": {
      "private_outputs": true
    },
    "kernelspec": {
      "display_name": "Python 3",
      "language": "python",
      "name": "python3"
    },
    "language_info": {
      "codemirror_mode": {
        "name": "ipython",
        "version": 3
      },
      "file_extension": ".py",
      "mimetype": "text/x-python",
      "name": "python",
      "nbconvert_exporter": "python",
      "pygments_lexer": "ipython3",
      "version": "3.12.5"
    }
  },
  "nbformat": 4,
  "nbformat_minor": 0
}
